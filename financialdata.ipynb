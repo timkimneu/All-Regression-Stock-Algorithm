{
 "cells": [
  {
   "cell_type": "code",
   "id": "initial_id",
   "metadata": {
    "collapsed": true,
    "ExecuteTime": {
     "end_time": "2024-11-13T02:06:03.310343Z",
     "start_time": "2024-11-13T02:06:03.302677Z"
    }
   },
   "source": [
    "import requests\n",
    "import io\n",
    "import pandas as pd\n",
    "import matplotlib.pyplot as plt\n",
    "from sklearn.linear_model import LinearRegression\n",
    "from sklearn.metrics import mean_absolute_error, r2_score"
   ],
   "outputs": [],
   "execution_count": 89
  },
  {
   "metadata": {
    "ExecuteTime": {
     "end_time": "2024-11-13T01:40:20.055634Z",
     "start_time": "2024-11-13T01:40:20.051082Z"
    }
   },
   "cell_type": "code",
   "source": [
    "## GENERATE CSV FILE CONTAINING ALL ACCOUNTING AND STOCK INFORMATION\n",
    "# TOP10 = ['AAPL', 'MSFT', 'GOOG', 'AMZN', 'NVDA', 'META', 'TSLA', 'BRK-B', 'LLY', 'V']\n",
    "MY_KEY = \"02SPF8GNBRU864WA\"\n",
    "\n",
    "symbol = 'TSLA'"
   ],
   "id": "993db01386caea1c",
   "outputs": [],
   "execution_count": 54
  },
  {
   "metadata": {
    "ExecuteTime": {
     "end_time": "2024-11-13T01:40:20.506162Z",
     "start_time": "2024-11-13T01:40:20.057448Z"
    }
   },
   "cell_type": "code",
   "source": [
    "TOP10 = ['AAPL', 'MSFT', 'GOOG', 'AMZN', 'NVDA', 'META', 'TSLA', 'BRK-B', 'LLY', 'V']\n",
    "\n",
    "all_fin_df = pd.DataFrame()\n",
    "\n",
    "# for symbol in TOP10:\n",
    "\n",
    "# urls for sec financial info for specified company\n",
    "income_url = f'https://www.alphavantage.co/query?function=INCOME_STATEMENT&symbol={symbol}&apikey={MY_KEY}'\n",
    "balance_url = f'https://www.alphavantage.co/query?function=BALANCE_SHEET&symbol={symbol}&apikey={MY_KEY}'\n",
    "cash_url = f'https://www.alphavantage.co/query?function=CASH_FLOW&symbol={symbol}&apikey={MY_KEY}'\n",
    "\n",
    "# retrieve responses\n",
    "r_income = requests.get(income_url).json()['quarterlyReports']\n",
    "r_balance = requests.get(balance_url).json()['quarterlyReports']\n",
    "r_cash = requests.get(cash_url).json()['quarterlyReports']\n",
    "\n",
    "# convert to pandas dataframes\n",
    "income_data = pd.json_normalize(r_income)\n",
    "balance_data = pd.json_normalize(r_balance)\n",
    "cash_data = pd.json_normalize(r_cash)\n",
    "\n",
    "# merge dataframes\n",
    "merged_data = income_data.merge(balance_data, on=\"fiscalDateEnding\", how=\"outer\").merge(cash_data, on=\"fiscalDateEnding\", how=\"outer\").reset_index(drop=True)\n",
    "merged_data[\"ticker\"] = symbol\n",
    "\n",
    "print(merged_data.head())"
   ],
   "id": "be3250173432607",
   "outputs": [
    {
     "name": "stdout",
     "output_type": "stream",
     "text": [
      "  fiscalDateEnding reportedCurrency_x grossProfit totalRevenue costOfRevenue  \\\n",
      "0       2024-09-30                USD  4997000000  25182000000   20185000000   \n",
      "1       2024-06-30                USD  4578000000  25500000000   20922000000   \n",
      "2       2024-03-31                USD  3696000000  21301000000   17605000000   \n",
      "3       2023-12-31                USD  4438000000  25167000000   20729000000   \n",
      "4       2023-09-30                USD  4178000000  23350000000   19172000000   \n",
      "\n",
      "  costofGoodsAndServicesSold operatingIncome sellingGeneralAndAdministrative  \\\n",
      "0                  101000000      2717000000                      1186000000   \n",
      "1                   78000000      1605000000                      1277000000   \n",
      "2                   68000000      1171000000                      1374000000   \n",
      "3                  102000000      2064000000                      1280000000   \n",
      "4                   11000000      1764000000                      1253000000   \n",
      "\n",
      "  researchAndDevelopment operatingExpenses  ... dividendPayoutPreferredStock  \\\n",
      "0             1039000000        2280000000  ...                         None   \n",
      "1             1074000000        2973000000  ...                         None   \n",
      "2             1151000000        2525000000  ...                         None   \n",
      "3             1094000000        2374000000  ...                         None   \n",
      "4             1161000000        2414000000  ...                         None   \n",
      "\n",
      "  proceedsFromIssuanceOfCommonStock  \\\n",
      "0                              None   \n",
      "1                              None   \n",
      "2                              None   \n",
      "3                              None   \n",
      "4                                 0   \n",
      "\n",
      "  proceedsFromIssuanceOfLongTermDebtAndCapitalSecuritiesNet  \\\n",
      "0                                               None          \n",
      "1                                               None          \n",
      "2                                               None          \n",
      "3                                               None          \n",
      "4                                                  0          \n",
      "\n",
      "  proceedsFromIssuanceOfPreferredStock proceedsFromRepurchaseOfEquity  \\\n",
      "0                                 None                      340000000   \n",
      "1                                 None                      197000000   \n",
      "2                                 None                      251000000   \n",
      "3                                 None                      152000000   \n",
      "4                                    0                      254000000   \n",
      "\n",
      "  proceedsFromSaleOfTreasuryStock changeInCashAndCashEquivalents  \\\n",
      "0                            None                           None   \n",
      "1                            None                           None   \n",
      "2                            None                           None   \n",
      "3                            None                           None   \n",
      "4                            None                           None   \n",
      "\n",
      "  changeInExchangeRate netIncome_y ticker  \n",
      "0                 None  2167000000   TSLA  \n",
      "1                 None  1478000000   TSLA  \n",
      "2                 None  1129000000   TSLA  \n",
      "3                 None  7928000000   TSLA  \n",
      "4                 None  1853000000   TSLA  \n",
      "\n",
      "[5 rows x 92 columns]\n"
     ]
    }
   ],
   "execution_count": 55
  },
  {
   "metadata": {
    "ExecuteTime": {
     "end_time": "2024-11-13T01:40:20.631394Z",
     "start_time": "2024-11-13T01:40:20.508634Z"
    }
   },
   "cell_type": "code",
   "source": [
    "stock_monthly_url = f'https://www.alphavantage.co/query?function=TIME_SERIES_MONTHLY&symbol={symbol}&apikey={MY_KEY}&datatype=csv'\n",
    "r_stock_weekly = requests.get(stock_monthly_url).text\n",
    "\n",
    "stock_data = pd.read_csv(io.StringIO(r_stock_weekly))\n",
    "stock_data[\"ticker\"] = symbol\n",
    "\n",
    "# convert stock data into monthly returns\n",
    "monthly_returns_df = pd.DataFrame(stock_data)\n",
    "monthly_returns_df = monthly_returns_df.rename(columns={'timestamp': 'Date'})\n",
    "monthly_returns_df['Date'] = pd.to_datetime(monthly_returns_df['Date'])\n",
    "monthly_returns_df['Monthly Return'] = monthly_returns_df['close'].pct_change() * 100\n",
    "monthly_returns_df = monthly_returns_df[['Date', 'Monthly Return']].dropna()\n",
    "\n",
    "print(monthly_returns_df.head())"
   ],
   "id": "e21ce9ca099cf627",
   "outputs": [
    {
     "name": "stdout",
     "output_type": "stream",
     "text": [
      "        Date  Monthly Return\n",
      "1 2024-10-31      -23.939846\n",
      "2 2024-09-30        4.714829\n",
      "3 2024-08-30      -18.163055\n",
      "4 2024-07-31        8.388212\n",
      "5 2024-06-28      -14.732624\n"
     ]
    }
   ],
   "execution_count": 56
  },
  {
   "metadata": {
    "ExecuteTime": {
     "end_time": "2024-11-13T01:53:23.029805Z",
     "start_time": "2024-11-13T01:53:23.007664Z"
    }
   },
   "cell_type": "code",
   "source": [
    "# Initialize an empty DataFrame with the desired columns\n",
    "columns = ['Date', 'Ticker', 'Current Ratio', 'Quick Ratio', 'Debt-to-Equity', 'Inventory Turnover',\n",
    "           'Fixed Asset Turnover', 'Gross Profit Margin', 'Quality of Income', 'Capital Acquisition Ratio']\n",
    "\n",
    "# Create an empty DataFrame\n",
    "train_fin_df = pd.DataFrame(columns=columns)"
   ],
   "id": "7905cdcb5b6a4af7",
   "outputs": [],
   "execution_count": 75
  },
  {
   "metadata": {
    "ExecuteTime": {
     "end_time": "2024-11-13T02:00:57.014255Z",
     "start_time": "2024-11-13T02:00:56.965414Z"
    }
   },
   "cell_type": "code",
   "source": [
    "# get data from past 30 quarters\n",
    "for i in range(30):\n",
    "    curr_row = merged_data.iloc[i]\n",
    "    \n",
    "    # Extract relevant data from current row\n",
    "    date = curr_row['fiscalDateEnding']\n",
    "    ticker = curr_row['ticker']\n",
    "    \n",
    "    # Financial ratios (computed from row data)\n",
    "    gross_profit = int(curr_row['grossProfit'])\n",
    "    revenue = int(curr_row['totalRevenue'])\n",
    "    cogs = int(curr_row['costofGoodsAndServicesSold'])\n",
    "    net_income = int(curr_row['netIncome_x'])\n",
    "    \n",
    "    total_assets = int(curr_row['totalAssets'])\n",
    "    current_assets = int(curr_row['totalCurrentAssets'])\n",
    "    inventory = int(curr_row['inventory'])\n",
    "    inventory_prior = int(curr_row['inventory'])\n",
    "    \n",
    "    ppe = 0 if curr_row['propertyPlantEquipment'] in ['None', None, 'NaN', ''] else int(curr_row['propertyPlantEquipment'])\n",
    "    ppe_prior = ppe  # Assuming same for both current and prior period\n",
    "    \n",
    "    total_liabilities = int(curr_row['totalLiabilities'])\n",
    "    current_liabilities = int(curr_row['totalCurrentLiabilities'])\n",
    "    total_se = int(curr_row['totalShareholderEquity'])\n",
    "    \n",
    "    operating_cash = int(curr_row['operatingCashflow'])\n",
    "    cash_paid_ppe = int(curr_row['capitalExpenditures'])\n",
    "    \n",
    "    # Calculating the accounting ratios\n",
    "    current_ratio = round((current_assets / current_liabilities), 3)\n",
    "    quick_ratio = round(((current_assets - inventory) / current_liabilities), 3)\n",
    "    de_ratio = round((total_liabilities / total_se), 3)\n",
    "    avg_inv = (inventory + inventory_prior) / 2\n",
    "    inv_turnover_ratio = round((cogs / avg_inv), 3)\n",
    "    avg_ppe = (ppe + ppe_prior) / 2\n",
    "    avg_fixed = round((revenue / avg_ppe), 3) if avg_ppe != 0 else 0\n",
    "    gross_profit_margin = round((gross_profit / revenue), 3)\n",
    "    income_quality_ratio = round((operating_cash / net_income), 3)\n",
    "    cap_acq_ratio = round((operating_cash / cash_paid_ppe), 3)\n",
    "    \n",
    "    # Create a dictionary for the current row\n",
    "    new_row = {\n",
    "        'Date': date,\n",
    "        'Ticker': ticker,\n",
    "        'Current Ratio': current_ratio,\n",
    "        'Quick Ratio': quick_ratio,\n",
    "        'Debt-to-Equity': de_ratio,\n",
    "        'Inventory Turnover': inv_turnover_ratio,\n",
    "        'Fixed Asset Turnover': avg_fixed,\n",
    "        'Gross Profit Margin': gross_profit_margin,\n",
    "        'Quality of Income': income_quality_ratio,\n",
    "        'Capital Acquisition Ratio': cap_acq_ratio\n",
    "    }\n",
    "    \n",
    "    # Convert the new_row dictionary to a DataFrame (single row)\n",
    "    new_row_df = pd.DataFrame([new_row])\n",
    "    \n",
    "    # Concatenate the new row to the original DataFrame\n",
    "    train_fin_df = pd.concat([train_fin_df, new_row_df], ignore_index=True)\n",
    "\n",
    "train_fin_df['Date'] = pd.to_datetime(train_fin_df['Date'], errors='coerce')\n",
    "\n",
    "print(train_fin_df.head())"
   ],
   "id": "dec946bbd1126c43",
   "outputs": [
    {
     "name": "stdout",
     "output_type": "stream",
     "text": [
      "        Date Ticker  Current Ratio  Quick Ratio  Debt-to-Equity  \\\n",
      "0 2022-06-30   TSLA          1.431        1.059           0.848   \n",
      "1 2022-03-31   TSLA          1.354        1.042           0.899   \n",
      "2 2021-12-31   TSLA          1.375        1.083           1.012   \n",
      "3 2021-09-30   TSLA          1.385        1.097           1.085   \n",
      "4 2021-06-30   TSLA          1.508        1.219           1.165   \n",
      "\n",
      "   Inventory Turnover  Fixed Asset Turnover  Gross Profit Margin  \\\n",
      "0               0.010                 0.803                0.250   \n",
      "1               0.029                 0.937                0.291   \n",
      "2               0.026                 0.938                0.274   \n",
      "3               0.007                 0.795                0.266   \n",
      "4               0.008                 0.763                0.241   \n",
      "\n",
      "   Quality of Income  Capital Acquisition Ratio  \n",
      "0              1.041                      0.728  \n",
      "1              1.204                      2.261  \n",
      "2              1.975                      2.533  \n",
      "3              1.945                      1.730  \n",
      "4              1.860                      1.411  \n"
     ]
    }
   ],
   "execution_count": 84
  },
  {
   "metadata": {
    "ExecuteTime": {
     "end_time": "2024-11-13T02:07:49.098154Z",
     "start_time": "2024-11-13T02:07:48.855594Z"
    }
   },
   "cell_type": "code",
   "source": [
    "# Step 1: Merge the dataframes on 'Date'\n",
    "merged_df = pd.merge(monthly_returns_df, train_fin_df, left_on='Date', right_on='Date', how='inner')\n",
    "\n",
    "# Step 2: Prepare the data\n",
    "# Drop any rows with missing values\n",
    "merged_df.dropna(inplace=True)\n",
    "\n",
    "# Define the target variable (Monthly Return)\n",
    "y = merged_df['Monthly Return']\n",
    "\n",
    "# Step 3: Split the data manually\n",
    "# Use the first 10 rows as the test set and the last 20 rows as the training set\n",
    "X_train = merged_df[['Current Ratio', 'Quick Ratio', 'Debt-to-Equity', 'Inventory Turnover', \n",
    "                     'Fixed Asset Turnover', 'Gross Profit Margin', 'Quality of Income']].iloc[10:]\n",
    "X_test = merged_df[['Current Ratio', 'Quick Ratio', 'Debt-to-Equity', 'Inventory Turnover', \n",
    "                    'Fixed Asset Turnover', 'Gross Profit Margin', 'Quality of Income']].iloc[:10]\n",
    "y_train = y.iloc[10:]\n",
    "y_test = y.iloc[:10]\n",
    "\n",
    "# Step 4: Build and train a separate model for each financial ratio\n",
    "plt.figure(figsize=(12, 8))\n",
    "\n",
    "# List of financial ratios\n",
    "ratios = ['Current Ratio', 'Quick Ratio', 'Debt-to-Equity', 'Inventory Turnover', \n",
    "          'Fixed Asset Turnover', 'Gross Profit Margin', 'Quality of Income']\n",
    "\n",
    "# Define unique colors for each variable\n",
    "colors = ['blue', 'green', 'red', 'orange', 'purple', 'brown', 'pink', 'gray']\n",
    "\n",
    "# Loop through each financial ratio, fit the model, and plot\n",
    "for i, ratio in enumerate(ratios):\n",
    "    # Select one feature at a time for the linear regression\n",
    "    X_train_single = X_train[[ratio]]\n",
    "    X_test_single = X_test[[ratio]]\n",
    "\n",
    "    # Initialize and fit the linear regression model\n",
    "    model = LinearRegression()\n",
    "    model.fit(X_train_single, y_train)\n",
    "\n",
    "    # Make predictions\n",
    "    y_pred = model.predict(X_test_single)\n",
    "\n",
    "    # Plot the regression line for each ratio on the same graph\n",
    "    plt.plot(X_test_single, y_pred, label=f'{ratio}', color=colors[i], linewidth=2)  # Regression line\n",
    "\n",
    "# Plot actual data points (Monthly Return vs. X_test)\n",
    "# We are using only the first column of X_test for simplicity since we are plotting against individual features\n",
    "plt.scatter(X_test[ratios[0]], y_test, color='black', label='Actual Data', alpha=0.5)\n",
    "\n",
    "# Add title and labels\n",
    "plt.title('Linear Regression: Monthly Return vs Financial Ratios')\n",
    "plt.xlabel('Financial Ratios')\n",
    "plt.ylabel('Monthly Return')\n",
    "plt.legend()\n",
    "\n",
    "# Display the plot\n",
    "plt.grid(True)\n",
    "plt.tight_layout()\n",
    "plt.show()\n",
    "\n",
    "# Step 5: Print model performance metrics for each model\n",
    "for i, ratio in enumerate(ratios):\n",
    "    # Select one feature at a time for the linear regression\n",
    "    X_train_single = X_train[[ratio]]\n",
    "    X_test_single = X_test[[ratio]]\n",
    "    \n",
    "    # Initialize and fit the linear regression model\n",
    "    model = LinearRegression()\n",
    "    model.fit(X_train_single, y_train)\n",
    "    \n",
    "    # Make predictions\n",
    "    y_pred = model.predict(X_test_single)\n",
    "    \n",
    "    # Calculate R² score and Mean Absolute Error (MAE)\n",
    "    r2 = r2_score(y_test, y_pred)\n",
    "    mae = mean_absolute_error(y_test, y_pred)\n",
    "    \n",
    "    print(f'{ratio} - R² score: {r2:.4f}, Mean Absolute Error: {mae:.4f}')\n"
   ],
   "id": "a57bd453b50d5a58",
   "outputs": [
    {
     "data": {
      "text/plain": [
       "<Figure size 1200x800 with 1 Axes>"
      ],
      "image/png": "[encoded data removed]"
     },
     "metadata": {},
     "output_type": "display_data"
    },
    {
     "name": "stdout",
     "output_type": "stream",
     "text": [
      "Current Ratio - R² score: -0.1298, Mean Absolute Error: 20.5622\n",
      "Quick Ratio - R² score: -0.1407, Mean Absolute Error: 20.6757\n",
      "Debt-to-Equity - R² score: -0.0316, Mean Absolute Error: 19.8818\n",
      "Inventory Turnover - R² score: -0.2190, Mean Absolute Error: 21.1469\n",
      "Fixed Asset Turnover - R² score: -0.0136, Mean Absolute Error: 19.7694\n",
      "Gross Profit Margin - R² score: -0.2547, Mean Absolute Error: 22.1244\n",
      "Quality of Income - R² score: -0.1702, Mean Absolute Error: 20.8745\n"
     ]
    }
   ],
   "execution_count": 92
  },
  {
   "metadata": {},
   "cell_type": "code",
   "source": "",
   "id": "ea748076108e2ee5",
   "outputs": [],
   "execution_count": null
  }
 ],
 "metadata": {
  "kernelspec": {
   "display_name": "Python 3",
   "language": "python",
   "name": "python3"
  },
  "language_info": {
   "codemirror_mode": {
    "name": "ipython",
    "version": 2
   },
   "file_extension": ".py",
   "mimetype": "text/x-python",
   "name": "python",
   "nbconvert_exporter": "python",
   "pygments_lexer": "ipython2",
   "version": "2.7.6"
  }
 },
 "nbformat": 4,
 "nbformat_minor": 5
}
